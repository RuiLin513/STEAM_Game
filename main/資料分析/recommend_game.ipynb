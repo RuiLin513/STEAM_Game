{
 "cells": [
  {
   "cell_type": "code",
   "execution_count": 12,
   "metadata": {},
   "outputs": [],
   "source": [
    "import pandas as pd\n",
    "import matplotlib.pyplot as plt\n",
    "import json\n",
    "from sklearn.feature_extraction.text import TfidfVectorizer\n",
    "from sklearn.metrics.pairwise import cosine_similarity, euclidean_distances"
   ]
  },
  {
   "cell_type": "code",
   "execution_count": 13,
   "metadata": {},
   "outputs": [],
   "source": [
    "df = pd.read_json(r\"df.json\")"
   ]
  },
  {
   "cell_type": "code",
   "execution_count": 14,
   "metadata": {},
   "outputs": [],
   "source": [
    "AAA = pd.read_csv('..\\..\\..\\data\\AAA\\main_aaa.csv')\n",
    "AA = pd.read_csv('..\\..\\..\\data\\AA\\main_aa.csv')\n",
    "Indie = pd.read_csv('..\\..\\..\\data\\Indie\\main_indie.csv')"
   ]
  },
  {
   "cell_type": "code",
   "execution_count": 15,
   "metadata": {},
   "outputs": [],
   "source": [
    "AAA = AAA[['steamId', 'name']]\n",
    "AA = AA[['steamId', 'name']]\n",
    "Indie = Indie[['steamId', 'name']]"
   ]
  },
  {
   "cell_type": "code",
   "execution_count": 16,
   "metadata": {},
   "outputs": [],
   "source": [
    "steamId_name = pd.concat([AAA,AA,Indie], axis=0).reset_index(drop=True)"
   ]
  },
  {
   "cell_type": "code",
   "execution_count": 17,
   "metadata": {},
   "outputs": [],
   "source": [
    "df_with_name = pd.merge(df, steamId_name, on='steamId', how='inner')"
   ]
  },
  {
   "cell_type": "code",
   "execution_count": 19,
   "metadata": {},
   "outputs": [
    {
     "name": "stdout",
     "output_type": "stream",
     "text": [
      "<class 'pandas.core.frame.DataFrame'>\n",
      "RangeIndex: 17550 entries, 0 to 17549\n",
      "Data columns (total 11 columns):\n",
      " #   Column       Non-Null Count  Dtype  \n",
      "---  ------       --------------  -----  \n",
      " 0   steamId      17550 non-null  int64  \n",
      " 1   avgPlaytime  17550 non-null  float64\n",
      " 2   tags         17550 non-null  object \n",
      " 3   genres       17550 non-null  object \n",
      " 4   countryData  17550 non-null  object \n",
      " 5   history      17550 non-null  object \n",
      " 6   copiesSold   17550 non-null  int64  \n",
      " 7   revenue      17550 non-null  float64\n",
      " 8   players      17550 non-null  int64  \n",
      " 9   publisher    17550 non-null  object \n",
      " 10  name         17550 non-null  object \n",
      "dtypes: float64(2), int64(3), object(6)\n",
      "memory usage: 1.5+ MB\n"
     ]
    }
   ],
   "source": [
    "df_with_name.info()"
   ]
  },
  {
   "cell_type": "code",
   "execution_count": 20,
   "metadata": {},
   "outputs": [
    {
     "data": {
      "text/html": [
       "<div>\n",
       "<style scoped>\n",
       "    .dataframe tbody tr th:only-of-type {\n",
       "        vertical-align: middle;\n",
       "    }\n",
       "\n",
       "    .dataframe tbody tr th {\n",
       "        vertical-align: top;\n",
       "    }\n",
       "\n",
       "    .dataframe thead th {\n",
       "        text-align: right;\n",
       "    }\n",
       "</style>\n",
       "<table border=\"1\" class=\"dataframe\">\n",
       "  <thead>\n",
       "    <tr style=\"text-align: right;\">\n",
       "      <th></th>\n",
       "      <th>steamId</th>\n",
       "      <th>avgPlaytime</th>\n",
       "      <th>tags</th>\n",
       "      <th>genres</th>\n",
       "      <th>countryData</th>\n",
       "      <th>history</th>\n",
       "      <th>copiesSold</th>\n",
       "      <th>revenue</th>\n",
       "      <th>players</th>\n",
       "      <th>publisher</th>\n",
       "      <th>name</th>\n",
       "    </tr>\n",
       "  </thead>\n",
       "  <tbody>\n",
       "    <tr>\n",
       "      <th>0</th>\n",
       "      <td>2358720</td>\n",
       "      <td>0.000000</td>\n",
       "      <td>[Mythology, Action RPG, Action, Souls-like, RP...</td>\n",
       "      <td>[Action, Adventure, RPG]</td>\n",
       "      <td>{'cn': 80.4, 'us': 3, 'ru': 1.4, 'gb': 0.8, 'b...</td>\n",
       "      <td>[{'timeStamp': '2024-08-21 16:49:35', 'reviews...</td>\n",
       "      <td>18986400</td>\n",
       "      <td>1.025095e+09</td>\n",
       "      <td>22771854</td>\n",
       "      <td>AAA</td>\n",
       "      <td>Black Myth: Wukong</td>\n",
       "    </tr>\n",
       "    <tr>\n",
       "      <th>1</th>\n",
       "      <td>1086940</td>\n",
       "      <td>156.189715</td>\n",
       "      <td>[RPG, Character Customization, Choices Matter,...</td>\n",
       "      <td>[Adventure, RPG, Strategy]</td>\n",
       "      <td>{'us': 29.4, 'cn': 15.5, 'ru': 5.7, 'gb': 5.3,...</td>\n",
       "      <td>[{'timeStamp': '2020-10-06 20:00:00', 'reviews...</td>\n",
       "      <td>13542975</td>\n",
       "      <td>6.875511e+08</td>\n",
       "      <td>13542975</td>\n",
       "      <td>AAA</td>\n",
       "      <td>Baldur's Gate 3</td>\n",
       "    </tr>\n",
       "  </tbody>\n",
       "</table>\n",
       "</div>"
      ],
      "text/plain": [
       "   steamId  avgPlaytime                                               tags  \\\n",
       "0  2358720     0.000000  [Mythology, Action RPG, Action, Souls-like, RP...   \n",
       "1  1086940   156.189715  [RPG, Character Customization, Choices Matter,...   \n",
       "\n",
       "                       genres  \\\n",
       "0    [Action, Adventure, RPG]   \n",
       "1  [Adventure, RPG, Strategy]   \n",
       "\n",
       "                                         countryData  \\\n",
       "0  {'cn': 80.4, 'us': 3, 'ru': 1.4, 'gb': 0.8, 'b...   \n",
       "1  {'us': 29.4, 'cn': 15.5, 'ru': 5.7, 'gb': 5.3,...   \n",
       "\n",
       "                                             history  copiesSold  \\\n",
       "0  [{'timeStamp': '2024-08-21 16:49:35', 'reviews...    18986400   \n",
       "1  [{'timeStamp': '2020-10-06 20:00:00', 'reviews...    13542975   \n",
       "\n",
       "        revenue   players publisher                name  \n",
       "0  1.025095e+09  22771854       AAA  Black Myth: Wukong  \n",
       "1  6.875511e+08  13542975       AAA     Baldur's Gate 3  "
      ]
     },
     "execution_count": 20,
     "metadata": {},
     "output_type": "execute_result"
    }
   ],
   "source": [
    "df_with_name.head(2)"
   ]
  },
  {
   "cell_type": "code",
   "execution_count": 21,
   "metadata": {},
   "outputs": [
    {
     "data": {
      "text/plain": [
       "steamId                                                  2358720\n",
       "avgPlaytime                                                  0.0\n",
       "tags           [Mythology, Action RPG, Action, Souls-like, RP...\n",
       "genres                                  [Action, Adventure, RPG]\n",
       "countryData    {'cn': 80.4, 'us': 3, 'ru': 1.4, 'gb': 0.8, 'b...\n",
       "history        [{'timeStamp': '2024-08-21 16:49:35', 'reviews...\n",
       "copiesSold                                              18986400\n",
       "revenue                                             1025094722.0\n",
       "players                                                 22771854\n",
       "publisher                                                    AAA\n",
       "name                                          Black Myth: Wukong\n",
       "Name: 0, dtype: object"
      ]
     },
     "execution_count": 21,
     "metadata": {},
     "output_type": "execute_result"
    }
   ],
   "source": [
    "x = df_with_name.iloc[0]\n",
    "x"
   ]
  },
  {
   "cell_type": "code",
   "execution_count": 22,
   "metadata": {},
   "outputs": [
    {
     "data": {
      "text/plain": [
       "['Mythology',\n",
       " 'Action RPG',\n",
       " 'Action',\n",
       " 'Souls-like',\n",
       " 'RPG',\n",
       " 'Combat',\n",
       " 'Story Rich',\n",
       " 'Singleplayer',\n",
       " 'Drama',\n",
       " 'Action-Adventure',\n",
       " 'Dark Fantasy',\n",
       " 'Atmospheric',\n",
       " 'Adventure',\n",
       " '3D',\n",
       " 'Fantasy',\n",
       " 'Hack and Slash',\n",
       " 'Third Person',\n",
       " 'Difficult',\n",
       " 'Music',\n",
       " 'Violent']"
      ]
     },
     "execution_count": 22,
     "metadata": {},
     "output_type": "execute_result"
    }
   ],
   "source": [
    "tags = x[\"tags\"]\n",
    "tags"
   ]
  },
  {
   "cell_type": "code",
   "execution_count": 23,
   "metadata": {},
   "outputs": [
    {
     "data": {
      "text/plain": [
       "'Mythology Action RPG Action Souls-like RPG Combat Story Rich Singleplayer Drama Action-Adventure Dark Fantasy Atmospheric Adventure 3D Fantasy Hack and Slash Third Person Difficult Music Violent'"
      ]
     },
     "execution_count": 23,
     "metadata": {},
     "output_type": "execute_result"
    }
   ],
   "source": [
    "\" \".join([tag for tag in tags])"
   ]
  },
  {
   "cell_type": "code",
   "execution_count": 24,
   "metadata": {},
   "outputs": [],
   "source": [
    "def genres_and_tags_to_string(row):\n",
    "    tags = row[\"genres\"]\n",
    "    tags = \" \".join([j for j in tags])\n",
    "\n",
    "    features = row[\"tags\"]\n",
    "    features = \" \".join([j for j in features])\n",
    "    return tags + \" \" + features"
   ]
  },
  {
   "cell_type": "code",
   "execution_count": 25,
   "metadata": {},
   "outputs": [
    {
     "data": {
      "text/plain": [
       "0        Action Adventure RPG Mythology Action RPG Acti...\n",
       "1        Adventure RPG Strategy RPG Character Customiza...\n",
       "2        RPG Cyberpunk Open World Nudity RPG Singleplay...\n",
       "3        Action RPG Souls-like Open World Dark Fantasy ...\n",
       "4        Action Adventure Open World Action Multiplayer...\n",
       "                               ...                        \n",
       "17545    Action Adventure Adventure Action Side Scrolle...\n",
       "17546    Adventure Casual Indie RPG Strategy Early Acce...\n",
       "17547              Action Casual Indie Action Indie Casual\n",
       "17548    Adventure Casual Indie Racing Indie Casual Adv...\n",
       "17549    Action Adventure Casual Indie Action Casual Ad...\n",
       "Name: string, Length: 17550, dtype: object"
      ]
     },
     "execution_count": 25,
     "metadata": {},
     "output_type": "execute_result"
    }
   ],
   "source": [
    "df_with_name[\"string\"] = df_with_name.apply(genres_and_tags_to_string, axis=1)\n",
    "df_with_name[\"string\"]"
   ]
  },
  {
   "cell_type": "code",
   "execution_count": 26,
   "metadata": {},
   "outputs": [],
   "source": [
    "tfidf = TfidfVectorizer(max_features=2000)"
   ]
  },
  {
   "cell_type": "code",
   "execution_count": 28,
   "metadata": {},
   "outputs": [],
   "source": [
    "tfidf_matrix = tfidf.fit_transform(list(df_with_name[\"string\"]))"
   ]
  },
  {
   "cell_type": "code",
   "execution_count": 30,
   "metadata": {},
   "outputs": [
    {
     "data": {
      "text/plain": [
       "<17550x485 sparse matrix of type '<class 'numpy.float64'>'\n",
       "\twith 331342 stored elements in Compressed Sparse Row format>"
      ]
     },
     "execution_count": 30,
     "metadata": {},
     "output_type": "execute_result"
    }
   ],
   "source": [
    "tfidf_matrix"
   ]
  },
  {
   "cell_type": "code",
   "execution_count": 31,
   "metadata": {},
   "outputs": [
    {
     "name": "stdout",
     "output_type": "stream",
     "text": [
      "['1980s' '1990' '2d' '360' '3d' '40k' '4x' '5d' '6dof' 'abstract' 'access'\n",
      " 'accounting' 'action' 'addictive' 'adventure' 'agriculture' 'aliens'\n",
      " 'alternate' 'ambient' 'america' 'american' 'and' 'animation' 'anime'\n",
      " 'apocalyptic' 'arcade' 'archery' 'arena' 'artificial' 'arts' 'assassin'\n",
      " 'asymmetric' 'asynchronous' 'atmospheric' 'attack' 'atv' 'audio' 'auto'\n",
      " 'automation' 'automobile' 'awkward' 'base' 'baseball' 'based'\n",
      " 'basketball' 'battle' 'battler' 'beat' 'beautiful' 'benchmark' 'bikes'\n",
      " 'birds' 'blood' 'bmx' 'board' 'book' 'boomer' 'boss' 'bowling' 'boxing'\n",
      " 'builder' 'building' 'bullet' 'campaign' 'capitalism' 'card' 'cartoon'\n",
      " 'cartoony' 'casual' 'cats' 'character' 'chess' 'choices' 'choose'\n",
      " 'cinematic' 'city' 'class' 'classic' 'click' 'clicker' 'co' 'coding'\n",
      " 'cold' 'collectathon' 'collector' 'colony' 'colorful' 'combat' 'comedy'\n",
      " 'comic' 'competitive' 'conspiracy' 'content' 'control' 'controller'\n",
      " 'controls' 'conversation' 'cooking' 'cozy' 'craft' 'crafting' 'crawler'\n",
      " 'creature' 'cricket' 'crime' 'crowdfunded' 'crpg' 'cult' 'customization'\n",
      " 'cute' 'cyberpunk' 'cycling' 'dark' 'dating' 'death' 'deckbuilder'\n",
      " 'deckbuilding' 'deduction' 'defense' 'demons' 'design' 'destruction'\n",
      " 'detective' 'development' 'dice' 'difficult' 'dinosaurs' 'diplomacy'\n",
      " 'documentary' 'dog' 'down' 'dragons' 'drama' 'drawn' 'driving' 'dungeon'\n",
      " 'dungeons' 'dwarf' 'dynamic' 'dystopian' 'early' 'economy' 'editing'\n",
      " 'editor' 'education' 'electronic' 'elf' 'em' 'emotional' 'endings' 'epic'\n",
      " 'episodic' 'escape' 'esports' 'events' 'experience' 'experimental'\n",
      " 'exploration' 'extraction' 'faith' 'family' 'fantasy' 'farming' 'fast'\n",
      " 'feature' 'female' 'fi' 'fiction' 'fighter' 'fighting' 'film' 'first'\n",
      " 'fishing' 'flight' 'fmv' 'football' 'foreign' 'fox' 'fps' 'friendly'\n",
      " 'funny' 'futuristic' 'gambling' 'game' 'gamemaker' 'games' 'gaming'\n",
      " 'generation' 'god' 'golf' 'gore' 'gothic' 'grand' 'graphics' 'great'\n",
      " 'grid' 'gun' 'hack' 'hacking' 'hand' 'hardware' 'heist' 'hell' 'hentai'\n",
      " 'hero' 'hex' 'hidden' 'historical' 'history' 'hobby' 'hockey' 'horror'\n",
      " 'horses' 'humor' 'hunting' 'idler' 'ii' 'illuminati' 'illustration'\n",
      " 'immersive' 'indie' 'instrumental' 'intelligence' 'intentionally'\n",
      " 'interactive' 'inventory' 'investigation' 'isometric' 'jet' 'job' 'jrpg'\n",
      " 'jump' 'keeper' 'kickstarter' 'lego' 'lemmings' 'level' 'lgbtq' 'life'\n",
      " 'like' 'linear' 'local' 'logic' 'loot' 'looter' 'lore' 'lovecraftian'\n",
      " 'machine' 'magic' 'mahjong' 'management' 'manipulation' 'mars' 'martial'\n",
      " 'massively' 'match' 'matching' 'matter' 'mature' 'mechs' 'medical'\n",
      " 'medieval' 'memes' 'metroidvania' 'military' 'mini' 'minigames'\n",
      " 'minimalist' 'mining' 'mmorpg' 'moba' 'mod' 'moddable' 'modeling'\n",
      " 'modern' 'motocross' 'motorbike' 'mouse' 'movement' 'movie' 'multiplayer'\n",
      " 'multiple' 'music' 'musou' 'mystery' 'mythology' 'narration' 'narrative'\n",
      " 'nature' 'naval' 'ninja' 'noir' 'nonlinear' 'nostalgia' 'novel' 'nsfw'\n",
      " 'nudity' 'object' 'offroad' 'old' 'on' 'online' 'only' 'op' 'open'\n",
      " 'otome' 'outbreak' 'own' 'paced' 'parkour' 'parody' 'party' 'pause'\n",
      " 'perma' 'person' 'philosophical' 'photo' 'physics' 'pinball' 'pirates'\n",
      " 'pixel' 'platformer' 'player' 'point' 'political' 'politics' 'pool'\n",
      " 'post' 'precision' 'procedural' 'production' 'programming' 'protagonist'\n",
      " 'psychedelic' 'psychological' 'publishing' 'puzzle' 'pve' 'pvp' 'quick'\n",
      " 'racing' 'rails' 'real' 'realistic' 'reboot' 'relaxing' 'remake' 'replay'\n",
      " 'resource' 'retro' 'rhythm' 'rich' 'robots' 'rock' 'roguelike'\n",
      " 'roguelite' 'roguevania' 'romance' 'rome' 'room' 'royale' 'rpg'\n",
      " 'rpgmaker' 'rts' 'rugby' 'runner' 'rush' 'sailing' 'sandbox' 'satire'\n",
      " 'scare' 'school' 'sci' 'science' 'score' 'screen' 'scroller' 'sequel'\n",
      " 'sexual' 'shoot' 'shooter' 'shop' 'short' 'side' 'silent' 'sim'\n",
      " 'simulation' 'simulator' 'singleplayer' 'skateboarding' 'skating'\n",
      " 'skiing' 'slash' 'sniper' 'snooker' 'snow' 'snowboarding' 'soccer'\n",
      " 'social' 'software' 'sokoban' 'solitaire' 'souls' 'soundtrack' 'space'\n",
      " 'spaceships' 'spectacle' 'spelling' 'split' 'sports' 'stealth' 'steam'\n",
      " 'steampunk' 'stick' 'story' 'strategy' 'stylized' 'submarine' 'superhero'\n",
      " 'supernatural' 'surreal' 'survival' 'swordplay' 'tabletop' 'tactical'\n",
      " 'tactics' 'tanks' 'team' 'tennis' 'text' 'third' 'thriller' 'tile' 'time'\n",
      " 'top' 'touch' 'tower' 'trackir' 'trading' 'traditional' 'training'\n",
      " 'trains' 'transhumanism' 'transportation' 'travel' 'trivia' 'turn'\n",
      " 'tutorial' 'twin' 'typing' 'underground' 'underwater' 'unforgiving' 'up'\n",
      " 'utilities' 'value' 'vampire' 'vehicular' 'video' 'vikings' 'villain'\n",
      " 'violent' 'vision' 'visual' 'voice' 'volleyball' 'voxel' 'vr' 'walking'\n",
      " 'war' 'wargame' 'warhammer' 'web' 'well' 'werewolves' 'western'\n",
      " 'wholesome' 'with' 'word' 'workshop' 'world' 'wrestling' 'written' 'your'\n",
      " 'zombies']\n",
      "[[0. 0. 0. ... 0. 0. 0.]\n",
      " [0. 0. 0. ... 0. 0. 0.]\n",
      " [0. 0. 0. ... 0. 0. 0.]\n",
      " ...\n",
      " [0. 0. 0. ... 0. 0. 0.]\n",
      " [0. 0. 0. ... 0. 0. 0.]\n",
      " [0. 0. 0. ... 0. 0. 0.]]\n"
     ]
    }
   ],
   "source": [
    "print(tfidf.get_feature_names_out())\n",
    "print(tfidf_matrix.toarray())"
   ]
  },
  {
   "cell_type": "code",
   "execution_count": 55,
   "metadata": {},
   "outputs": [
    {
     "data": {
      "text/plain": [
       "name\n",
       "Black Myth: Wukong         0\n",
       "Baldur's Gate 3            1\n",
       "Cyberpunk 2077             2\n",
       "ELDEN RING                 3\n",
       "Grand Theft Auto V         4\n",
       "                       ...  \n",
       "Exodus: Creepy Time    17545\n",
       "Stratum Descent        17546\n",
       "NanoScape              17547\n",
       "Viking's drakkars      17548\n",
       "Tompi Jones            17549\n",
       "Length: 17550, dtype: int64"
      ]
     },
     "execution_count": 55,
     "metadata": {},
     "output_type": "execute_result"
    }
   ],
   "source": [
    "game2idx = pd.Series(df_with_name.index, index=df_with_name[\"name\"])\n",
    "game2idx"
   ]
  },
  {
   "cell_type": "code",
   "execution_count": 33,
   "metadata": {},
   "outputs": [
    {
     "data": {
      "text/plain": [
       "3"
      ]
     },
     "execution_count": 33,
     "metadata": {},
     "output_type": "execute_result"
    }
   ],
   "source": [
    "idx = game2idx[\"ELDEN RING\"]\n",
    "idx"
   ]
  },
  {
   "cell_type": "code",
   "execution_count": 34,
   "metadata": {},
   "outputs": [
    {
     "data": {
      "text/plain": [
       "<1x485 sparse matrix of type '<class 'numpy.float64'>'\n",
       "\twith 26 stored elements in Compressed Sparse Row format>"
      ]
     },
     "execution_count": 34,
     "metadata": {},
     "output_type": "execute_result"
    }
   ],
   "source": [
    "query_game = tfidf_matrix[idx]\n",
    "query_game"
   ]
  },
  {
   "cell_type": "code",
   "execution_count": 35,
   "metadata": {},
   "outputs": [
    {
     "data": {
      "text/plain": [
       "array([[0.55909842, 0.40278186, 0.43445098, ..., 0.14671644, 0.        ,\n",
       "        0.11714093]])"
      ]
     },
     "execution_count": 35,
     "metadata": {},
     "output_type": "execute_result"
    }
   ],
   "source": [
    "scores = cosine_similarity(query_game, tfidf_matrix)\n",
    "scores"
   ]
  },
  {
   "cell_type": "code",
   "execution_count": 36,
   "metadata": {},
   "outputs": [
    {
     "name": "stdout",
     "output_type": "stream",
     "text": [
      "['1980s' '1990' '2d' '360' '3d' '40k' '4x' '5d' '6dof' 'abstract' 'access'\n",
      " 'accounting' 'action' 'addictive' 'adventure' 'agriculture' 'aliens'\n",
      " 'alternate' 'ambient' 'america' 'american' 'and' 'animation' 'anime'\n",
      " 'apocalyptic' 'arcade' 'archery' 'arena' 'artificial' 'arts' 'assassin'\n",
      " 'asymmetric' 'asynchronous' 'atmospheric' 'attack' 'atv' 'audio' 'auto'\n",
      " 'automation' 'automobile' 'awkward' 'base' 'baseball' 'based'\n",
      " 'basketball' 'battle' 'battler' 'beat' 'beautiful' 'benchmark' 'bikes'\n",
      " 'birds' 'blood' 'bmx' 'board' 'book' 'boomer' 'boss' 'bowling' 'boxing'\n",
      " 'builder' 'building' 'bullet' 'campaign' 'capitalism' 'card' 'cartoon'\n",
      " 'cartoony' 'casual' 'cats' 'character' 'chess' 'choices' 'choose'\n",
      " 'cinematic' 'city' 'class' 'classic' 'click' 'clicker' 'co' 'coding'\n",
      " 'cold' 'collectathon' 'collector' 'colony' 'colorful' 'combat' 'comedy'\n",
      " 'comic' 'competitive' 'conspiracy' 'content' 'control' 'controller'\n",
      " 'controls' 'conversation' 'cooking' 'cozy' 'craft' 'crafting' 'crawler'\n",
      " 'creature' 'cricket' 'crime' 'crowdfunded' 'crpg' 'cult' 'customization'\n",
      " 'cute' 'cyberpunk' 'cycling' 'dark' 'dating' 'death' 'deckbuilder'\n",
      " 'deckbuilding' 'deduction' 'defense' 'demons' 'design' 'destruction'\n",
      " 'detective' 'development' 'dice' 'difficult' 'dinosaurs' 'diplomacy'\n",
      " 'documentary' 'dog' 'down' 'dragons' 'drama' 'drawn' 'driving' 'dungeon'\n",
      " 'dungeons' 'dwarf' 'dynamic' 'dystopian' 'early' 'economy' 'editing'\n",
      " 'editor' 'education' 'electronic' 'elf' 'em' 'emotional' 'endings' 'epic'\n",
      " 'episodic' 'escape' 'esports' 'events' 'experience' 'experimental'\n",
      " 'exploration' 'extraction' 'faith' 'family' 'fantasy' 'farming' 'fast'\n",
      " 'feature' 'female' 'fi' 'fiction' 'fighter' 'fighting' 'film' 'first'\n",
      " 'fishing' 'flight' 'fmv' 'football' 'foreign' 'fox' 'fps' 'friendly'\n",
      " 'funny' 'futuristic' 'gambling' 'game' 'gamemaker' 'games' 'gaming'\n",
      " 'generation' 'god' 'golf' 'gore' 'gothic' 'grand' 'graphics' 'great'\n",
      " 'grid' 'gun' 'hack' 'hacking' 'hand' 'hardware' 'heist' 'hell' 'hentai'\n",
      " 'hero' 'hex' 'hidden' 'historical' 'history' 'hobby' 'hockey' 'horror'\n",
      " 'horses' 'humor' 'hunting' 'idler' 'ii' 'illuminati' 'illustration'\n",
      " 'immersive' 'indie' 'instrumental' 'intelligence' 'intentionally'\n",
      " 'interactive' 'inventory' 'investigation' 'isometric' 'jet' 'job' 'jrpg'\n",
      " 'jump' 'keeper' 'kickstarter' 'lego' 'lemmings' 'level' 'lgbtq' 'life'\n",
      " 'like' 'linear' 'local' 'logic' 'loot' 'looter' 'lore' 'lovecraftian'\n",
      " 'machine' 'magic' 'mahjong' 'management' 'manipulation' 'mars' 'martial'\n",
      " 'massively' 'match' 'matching' 'matter' 'mature' 'mechs' 'medical'\n",
      " 'medieval' 'memes' 'metroidvania' 'military' 'mini' 'minigames'\n",
      " 'minimalist' 'mining' 'mmorpg' 'moba' 'mod' 'moddable' 'modeling'\n",
      " 'modern' 'motocross' 'motorbike' 'mouse' 'movement' 'movie' 'multiplayer'\n",
      " 'multiple' 'music' 'musou' 'mystery' 'mythology' 'narration' 'narrative'\n",
      " 'nature' 'naval' 'ninja' 'noir' 'nonlinear' 'nostalgia' 'novel' 'nsfw'\n",
      " 'nudity' 'object' 'offroad' 'old' 'on' 'online' 'only' 'op' 'open'\n",
      " 'otome' 'outbreak' 'own' 'paced' 'parkour' 'parody' 'party' 'pause'\n",
      " 'perma' 'person' 'philosophical' 'photo' 'physics' 'pinball' 'pirates'\n",
      " 'pixel' 'platformer' 'player' 'point' 'political' 'politics' 'pool'\n",
      " 'post' 'precision' 'procedural' 'production' 'programming' 'protagonist'\n",
      " 'psychedelic' 'psychological' 'publishing' 'puzzle' 'pve' 'pvp' 'quick'\n",
      " 'racing' 'rails' 'real' 'realistic' 'reboot' 'relaxing' 'remake' 'replay'\n",
      " 'resource' 'retro' 'rhythm' 'rich' 'robots' 'rock' 'roguelike'\n",
      " 'roguelite' 'roguevania' 'romance' 'rome' 'room' 'royale' 'rpg'\n",
      " 'rpgmaker' 'rts' 'rugby' 'runner' 'rush' 'sailing' 'sandbox' 'satire'\n",
      " 'scare' 'school' 'sci' 'science' 'score' 'screen' 'scroller' 'sequel'\n",
      " 'sexual' 'shoot' 'shooter' 'shop' 'short' 'side' 'silent' 'sim'\n",
      " 'simulation' 'simulator' 'singleplayer' 'skateboarding' 'skating'\n",
      " 'skiing' 'slash' 'sniper' 'snooker' 'snow' 'snowboarding' 'soccer'\n",
      " 'social' 'software' 'sokoban' 'solitaire' 'souls' 'soundtrack' 'space'\n",
      " 'spaceships' 'spectacle' 'spelling' 'split' 'sports' 'stealth' 'steam'\n",
      " 'steampunk' 'stick' 'story' 'strategy' 'stylized' 'submarine' 'superhero'\n",
      " 'supernatural' 'surreal' 'survival' 'swordplay' 'tabletop' 'tactical'\n",
      " 'tactics' 'tanks' 'team' 'tennis' 'text' 'third' 'thriller' 'tile' 'time'\n",
      " 'top' 'touch' 'tower' 'trackir' 'trading' 'traditional' 'training'\n",
      " 'trains' 'transhumanism' 'transportation' 'travel' 'trivia' 'turn'\n",
      " 'tutorial' 'twin' 'typing' 'underground' 'underwater' 'unforgiving' 'up'\n",
      " 'utilities' 'value' 'vampire' 'vehicular' 'video' 'vikings' 'villain'\n",
      " 'violent' 'vision' 'visual' 'voice' 'volleyball' 'voxel' 'vr' 'walking'\n",
      " 'war' 'wargame' 'warhammer' 'web' 'well' 'werewolves' 'western'\n",
      " 'wholesome' 'with' 'word' 'workshop' 'world' 'wrestling' 'written' 'your'\n",
      " 'zombies']\n",
      "[[0.         0.         0.         0.         0.1430928  0.\n",
      "  0.         0.         0.         0.         0.         0.\n",
      "  0.25177195 0.         0.         0.         0.         0.\n",
      "  0.         0.         0.         0.         0.         0.\n",
      "  0.         0.         0.         0.         0.         0.\n",
      "  0.         0.         0.         0.11882131 0.         0.\n",
      "  0.         0.         0.         0.         0.         0.\n",
      "  0.         0.         0.         0.         0.         0.\n",
      "  0.         0.         0.         0.         0.         0.\n",
      "  0.         0.         0.         0.         0.         0.\n",
      "  0.         0.         0.         0.         0.         0.\n",
      "  0.         0.         0.         0.         0.18212848 0.\n",
      "  0.         0.         0.         0.         0.         0.\n",
      "  0.         0.         0.29384357 0.         0.         0.\n",
      "  0.         0.         0.         0.         0.         0.\n",
      "  0.         0.         0.         0.         0.         0.\n",
      "  0.         0.         0.         0.         0.         0.\n",
      "  0.         0.         0.         0.         0.         0.\n",
      "  0.18385847 0.         0.         0.         0.15417365 0.\n",
      "  0.         0.         0.         0.         0.         0.\n",
      "  0.         0.         0.         0.         0.         0.15471782\n",
      "  0.         0.         0.         0.         0.         0.\n",
      "  0.         0.         0.         0.         0.         0.\n",
      "  0.         0.         0.         0.         0.         0.\n",
      "  0.         0.         0.         0.         0.         0.\n",
      "  0.         0.         0.         0.         0.         0.\n",
      "  0.         0.         0.         0.         0.16195652 0.27261428\n",
      "  0.         0.         0.         0.         0.         0.\n",
      "  0.         0.         0.         0.         0.         0.\n",
      "  0.         0.         0.         0.         0.         0.1594325\n",
      "  0.         0.         0.         0.         0.         0.\n",
      "  0.         0.         0.         0.         0.         0.\n",
      "  0.         0.         0.14181257 0.         0.         0.\n",
      "  0.         0.         0.         0.         0.         0.\n",
      "  0.         0.         0.         0.         0.         0.\n",
      "  0.         0.         0.         0.         0.         0.\n",
      "  0.         0.         0.         0.         0.         0.\n",
      "  0.         0.         0.         0.         0.         0.\n",
      "  0.         0.         0.         0.         0.         0.\n",
      "  0.         0.         0.         0.         0.         0.2486594\n",
      "  0.         0.         0.         0.         0.         0.\n",
      "  0.         0.         0.         0.         0.         0.\n",
      "  0.         0.         0.         0.         0.         0.\n",
      "  0.         0.         0.         0.         0.         0.\n",
      "  0.         0.         0.         0.         0.         0.\n",
      "  0.         0.         0.         0.         0.         0.\n",
      "  0.         0.         0.         0.         0.12582385 0.\n",
      "  0.         0.         0.         0.         0.         0.\n",
      "  0.         0.         0.         0.         0.         0.\n",
      "  0.         0.         0.         0.         0.         0.\n",
      "  0.         0.18718915 0.         0.29384357 0.15403267 0.\n",
      "  0.         0.         0.         0.         0.         0.\n",
      "  0.         0.         0.12094677 0.         0.         0.\n",
      "  0.         0.         0.         0.         0.         0.\n",
      "  0.         0.         0.         0.         0.         0.\n",
      "  0.         0.         0.         0.         0.         0.\n",
      "  0.         0.         0.19741325 0.         0.         0.\n",
      "  0.         0.         0.         0.         0.         0.\n",
      "  0.         0.         0.         0.         0.         0.\n",
      "  0.         0.         0.         0.         0.         0.\n",
      "  0.         0.33661601 0.         0.         0.         0.\n",
      "  0.         0.         0.         0.         0.         0.\n",
      "  0.         0.         0.         0.         0.         0.\n",
      "  0.         0.         0.         0.         0.         0.\n",
      "  0.         0.         0.         0.         0.07161631 0.\n",
      "  0.         0.         0.         0.         0.         0.\n",
      "  0.         0.         0.         0.         0.         0.\n",
      "  0.2486594  0.13868997 0.         0.         0.         0.\n",
      "  0.         0.         0.         0.         0.         0.\n",
      "  0.         0.         0.         0.         0.         0.\n",
      "  0.         0.         0.         0.         0.         0.\n",
      "  0.         0.         0.         0.         0.16329695 0.\n",
      "  0.         0.         0.         0.         0.         0.\n",
      "  0.         0.         0.         0.         0.         0.\n",
      "  0.         0.         0.         0.         0.         0.\n",
      "  0.         0.         0.         0.         0.         0.\n",
      "  0.         0.         0.         0.         0.         0.17510634\n",
      "  0.         0.         0.         0.         0.         0.\n",
      "  0.         0.         0.         0.         0.         0.\n",
      "  0.         0.         0.         0.         0.         0.\n",
      "  0.14732974 0.         0.         0.         0.        ]]\n"
     ]
    }
   ],
   "source": [
    "# 顯示結果\n",
    "print(tfidf.get_feature_names_out())\n",
    "print(query_game.toarray())"
   ]
  },
  {
   "cell_type": "code",
   "execution_count": 37,
   "metadata": {},
   "outputs": [],
   "source": [
    "scores = scores.flatten()"
   ]
  },
  {
   "cell_type": "code",
   "execution_count": 38,
   "metadata": {},
   "outputs": [
    {
     "data": {
      "text/plain": [
       "[<matplotlib.lines.Line2D at 0x1f14702a1d0>]"
      ]
     },
     "execution_count": 38,
     "metadata": {},
     "output_type": "execute_result"
    },
    {
     "data": {
      "image/png": "[encoded data removed]",
      "text/plain": [
       "<Figure size 640x480 with 1 Axes>"
      ]
     },
     "metadata": {},
     "output_type": "display_data"
    }
   ],
   "source": [
    "plt.plot(scores)"
   ]
  },
  {
   "cell_type": "code",
   "execution_count": 39,
   "metadata": {},
   "outputs": [
    {
     "data": {
      "text/plain": [
       "array([    3, 16267,    25, ..., 11253,  5066, 13354], dtype=int64)"
      ]
     },
     "execution_count": 39,
     "metadata": {},
     "output_type": "execute_result"
    }
   ],
   "source": [
    "(-scores).argsort()"
   ]
  },
  {
   "cell_type": "code",
   "execution_count": 40,
   "metadata": {},
   "outputs": [
    {
     "data": {
      "text/plain": [
       "[<matplotlib.lines.Line2D at 0x1f147da2e60>]"
      ]
     },
     "execution_count": 40,
     "metadata": {},
     "output_type": "execute_result"
    },
    {
     "data": {
      "image/png": "[encoded data removed]",
      "text/plain": [
       "<Figure size 640x480 with 1 Axes>"
      ]
     },
     "metadata": {},
     "output_type": "display_data"
    }
   ],
   "source": [
    "plt.plot(scores[(-scores).argsort()])"
   ]
  },
  {
   "cell_type": "code",
   "execution_count": 41,
   "metadata": {},
   "outputs": [
    {
     "data": {
      "text/plain": [
       "array([16267,    25,   107,    60,    80], dtype=int64)"
      ]
     },
     "execution_count": 41,
     "metadata": {},
     "output_type": "execute_result"
    }
   ],
   "source": [
    "recommended_idx = (-scores).argsort()[1:6]\n",
    "recommended_idx"
   ]
  },
  {
   "cell_type": "code",
   "execution_count": 43,
   "metadata": {},
   "outputs": [
    {
     "data": {
      "text/plain": [
       "16267                 The Last Hero of Nostalgaia\n",
       "25                                DARK SOULS™ III\n",
       "107      DARK SOULS™ II: Scholar of the First Sin\n",
       "60                        DARK SOULS™: REMASTERED\n",
       "80                                      CODE VEIN\n",
       "Name: name, dtype: object"
      ]
     },
     "execution_count": 43,
     "metadata": {},
     "output_type": "execute_result"
    }
   ],
   "source": [
    "df_with_name[\"name\"].iloc[recommended_idx]"
   ]
  },
  {
   "cell_type": "code",
   "execution_count": 44,
   "metadata": {},
   "outputs": [
    {
     "name": "stdout",
     "output_type": "stream",
     "text": [
      "873\n"
     ]
    }
   ],
   "source": [
    "idx = game2idx[\"Diablo® IV\"]\n",
    "\n",
    "print(idx)"
   ]
  },
  {
   "cell_type": "code",
   "execution_count": 46,
   "metadata": {},
   "outputs": [],
   "source": [
    "from fuzzywuzzy import process"
   ]
  },
  {
   "cell_type": "code",
   "execution_count": 48,
   "metadata": {},
   "outputs": [
    {
     "data": {
      "text/plain": [
       "('Diablo® IV', 100, 873)"
      ]
     },
     "execution_count": 48,
     "metadata": {},
     "output_type": "execute_result"
    }
   ],
   "source": [
    "closest_match = process.extractOne(\"diablo IV\", df_with_name[\"name\"])\n",
    "closest_match"
   ]
  },
  {
   "cell_type": "code",
   "execution_count": 50,
   "metadata": {},
   "outputs": [
    {
     "data": {
      "text/plain": [
       "'Counter-Strike: Source'"
      ]
     },
     "execution_count": 50,
     "metadata": {},
     "output_type": "execute_result"
    }
   ],
   "source": [
    "df_with_name[df_with_name[\"steamId\"] == 240][\"name\"].to_string(index=False)"
   ]
  },
  {
   "cell_type": "code",
   "execution_count": 51,
   "metadata": {},
   "outputs": [],
   "source": [
    "def recommend(name_or_index):\n",
    "\n",
    "    if isinstance(name_or_index, int):\n",
    "        matched_game_name = df_with_name[df_with_name[\"id\"] == name_or_index][\"name\"].to_string(index=False)\n",
    "\n",
    "    else:\n",
    "        # 模糊搜索 (字母大小寫皆適用)\n",
    "        closest_match = process.extractOne(name_or_index, df_with_name[\"name\"])\n",
    "\n",
    "        # 根據輸入的遊戲名稱，對照遊戲表找出對應的索引值\n",
    "        if closest_match[1] > 20:\n",
    "            matched_game_name = closest_match[0]\n",
    "\n",
    "        else:\n",
    "            return \"找不到輸入的遊戲名稱或ID\"\n",
    "\n",
    "    idx = game2idx[matched_game_name]\n",
    "\n",
    "    # 確認 idx 是否有值\n",
    "    if type(idx) == pd.Series:\n",
    "        idx = idx.iloc[0]\n",
    "\n",
    "    # 找出指定遊戲的matrix\n",
    "    query_game = tfidf_with_name_matrix[idx]\n",
    "\n",
    "    # 將該遊戲的matrix與其他遊戲的matrix做相似度比對\n",
    "    scores = cosine_similarity(query_game, tfidf_with_name_matrix)\n",
    "\n",
    "    # 將scores拉平\n",
    "    scores = scores.flatten()\n",
    "\n",
    "    # 得到前五名相似度最高的遊戲\n",
    "    recommended_idx = (-scores).argsort()[1:6]\n",
    "\n",
    "    # 取得推薦遊戲名稱列表和對應的索引\n",
    "    recommended_games = df_with_name[\"name\"].iloc[recommended_idx]\n",
    "    recommended_indexes = recommended_idx\n",
    "\n",
    "    # 將相似度的遊戲index丟到df_with_name裡面返回遊戲名稱\n",
    "    return matched_game_name, list(zip(recommended_indexes, recommended_games))"
   ]
  },
  {
   "cell_type": "code",
   "execution_count": 52,
   "metadata": {},
   "outputs": [],
   "source": [
    "def user():\n",
    "    if __name__ == \"__main__\":\n",
    "\n",
    "        user_input = input(\"請輸入遊戲名稱或steam id: \")\n",
    "\n",
    "        try:\n",
    "            user_input = int(user_input)\n",
    "\n",
    "        except ValueError:\n",
    "            user_input = user_input\n",
    "\n",
    "        name, data = recommend(user_input)\n",
    "\n",
    "        if data:\n",
    "            match_df = pd.DataFrame(data, columns=[\"game_index\", \"game_name\"])\n",
    "\n",
    "            print(f\"遊戲名稱:{name}\")\n",
    "            print(f\"相似遊戲:\\n{match_df}\")"
   ]
  },
  {
   "cell_type": "code",
   "execution_count": null,
   "metadata": {},
   "outputs": [],
   "source": [
    "user()"
   ]
  },
  {
   "cell_type": "code",
   "execution_count": 3,
   "metadata": {},
   "outputs": [
    {
     "name": "stdout",
     "output_type": "stream",
     "text": [
      "   steamId                             name\n",
      "0    33930      Arma 2: Operation Arrowhead\n",
      "1   359550  Tom Clancy's Rainbow Six® Siege\n",
      "2   222880                       Insurgency\n",
      "3    65790           ARMA: Cold War Assault\n",
      "4   801550                          VAIL VR\n"
     ]
    }
   ],
   "source": [
    "# Modify the function to return both steamId and name\n",
    "def recommond_game(df_result, user_input):\n",
    "    \n",
    "    def genres_and_tags_to_string(row):\n",
    "        tags = row[\"genres\"]\n",
    "        tags = \" \".join([j for j in tags])\n",
    "\n",
    "        features = row[\"tags\"]\n",
    "        features = \" \".join([j for j in features])\n",
    "        return tags + \" \" + features\n",
    "\n",
    "    # Convert genres and tags to a string format\n",
    "    df_result[\"string\"] = df_result.apply(genres_and_tags_to_string, axis=1)\n",
    "\n",
    "    # Apply TF-IDF\n",
    "    tfidf = TfidfVectorizer(max_features=2000)\n",
    "    tfidf_matrix = tfidf.fit_transform(df_result[\"string\"])\n",
    "\n",
    "    # Map steamId to index\n",
    "    game2idx = pd.Series(df_result.index, index=df_result[\"steamId\"])\n",
    "\n",
    "    # Check if user_input exists in game2idx\n",
    "    if user_input not in game2idx:\n",
    "        return \"Steam ID 不存在於資料中。\"\n",
    "\n",
    "    # Query the game vector\n",
    "    idx = game2idx[user_input]\n",
    "    query_game = tfidf_matrix[idx]\n",
    "\n",
    "    # Calculate similarity scores\n",
    "    scores = cosine_similarity(query_game, tfidf_matrix).ravel()\n",
    "\n",
    "    # Find top 5 related games' indices\n",
    "    recommended_idx = scores.argsort()[-6:-1][::-1]\n",
    "\n",
    "    # Retrieve the steamId and name without the index\n",
    "    recommond_result = df_result[[\"steamId\", \"name\"]].iloc[recommended_idx].reset_index(drop=True)\n",
    "\n",
    "    return recommond_result\n",
    "\n",
    "# Test the function\n",
    "print(recommond_game(df_result, 240))\n"
   ]
  }
 ],
 "metadata": {
  "kernelspec": {
   "display_name": "final_project",
   "language": "python",
   "name": "python3"
  },
  "language_info": {
   "codemirror_mode": {
    "name": "ipython",
    "version": 3
   },
   "file_extension": ".py",
   "mimetype": "text/x-python",
   "name": "python",
   "nbconvert_exporter": "python",
   "pygments_lexer": "ipython3",
   "version": "3.10.15"
  }
 },
 "nbformat": 4,
 "nbformat_minor": 2
}
